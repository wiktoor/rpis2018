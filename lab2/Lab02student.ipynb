{
 "cells": [
  {
   "cell_type": "markdown",
   "metadata": {},
   "source": [
    "# Discrete sampling\n",
    "In the last problem of the first session we sampled with given probabilities using prefix sums and binary search. The sampling code is the bottleneck of the whole process, its running times is 3 times higher than the code for uniform probabilities, and the difference would only increase for larger number of outcomes. In the next two problems we discuss two simple, but powerful techniques one can use to sample in time $O(1)$."
   ]
  },
  {
   "cell_type": "markdown",
   "metadata": {},
   "source": [
    "**Problem 2a.** Consider the problem of sampling with known probabilities $p_1,\\ldots,p_d$. Suppose that you have a black-box that samples with probabilities $q_1,\\ldots,q_d$ that are close to $p_1,\\ldots,p_d$, say\n",
    "$$ \\forall_{i=1,\\ldots,n} p_i \\le (1+\\varepsilon)q_i.$$\n",
    "\n",
    "* How can you use this black-box to sample with probabilities $p_1,\\ldots,p_d$? It is expected, that the running time of the algorithm would be non-deterministic.\n",
    "* Prove that your algorithm is correct.\n",
    "* Implement the algorithm and use it to give a faster implementation for **Problem 1c**."
   ]
  },
  {
   "cell_type": "code",
   "execution_count": null,
   "metadata": {},
   "outputs": [],
   "source": [
    "import pandas as pd\n",
    "import numpy as np\n",
    "import matplotlib.pyplot as plt\n",
    "\n",
    "df = pd.read_csv('us_births_69_88.csv', usecols=[\"births\"]).to_numpy().flatten()\n",
    "\n",
    "S = sum(df)\n",
    "\n",
    "d = len(df)\n",
    "\n",
    "q = [ (1 / d) for k in range(d) ]\n",
    "\n",
    "p = [ (df[k] / S) for k in range(d) ]\n",
    "\n",
    "# this is the smallest number that meets the condition: p_i <= (1 + epsilon) * q_i for all i\n",
    "epsilon = max([ p[k] / q[k] for k in range(d) ]) - 1\n",
    "\n",
    "def blackBox():\n",
    "    return np.random.randint(d)\n",
    "\n",
    "def sample():\n",
    "    i = blackBox()\n",
    "    if np.random.rand() < p[i] / (q[i] * (1 + epsilon)):\n",
    "        return i\n",
    "    else:\n",
    "        pass\n",
    "\n",
    "def timesUntilRepetition():\n",
    "    s = set()\n",
    "    iterations = 0\n",
    "    while True:\n",
    "        iterations += 1\n",
    "        x = sample()\n",
    "        if x is None:\n",
    "            continue\n",
    "        if x not in s:\n",
    "            s.add(x)\n",
    "        else:\n",
    "            return iterations\n",
    "\n",
    "res = [ timesUntilRepetition() for k in range(100000)]\n",
    "plt.hist(res)\n",
    "plt.xlabel(\"number of times until first repetition\")\n",
    "plt.ylabel(\"number of repetitions\")\n",
    "plt.show()"
   ]
  },
  {
   "cell_type": "markdown",
   "metadata": {},
   "source": [
    "Note that `sample()` consists of two steps: \n",
    "1. pick a number from blackBox (it returns $i$ with probability $q_i$)\n",
    "2. decide if the result should be accepted (it accepts $i$ with probability $\\frac{p_i}{q_i \\cdot (1 + \\varepsilon)}$)\n",
    "   \n",
    "Therefore, we can use Bayes theorem to calculate the probability:\n",
    "$$ \\mathbb{P}(\\text{blackBox returns i | number got accepted}) \\stackrel{\\text{Bayes}}{=} \\\\ \\frac{\\mathbb{P}(\\text{blackBox returns i})\\cdot\\mathbb{P}(\\text{number got accepted | blackBox returns i})}{\\sum_{j=1}^n \\mathbb{P}(\\text{blackBox returns j})\\cdot\\mathbb{P}(\\text{number got accepted | blackBox returns j})} = \\\\ \\frac{q_i \\cdot \\frac{p_i}{q_i(1+\\varepsilon)}}{\\sum_{j=1}^n q_j\\cdot\\frac{p_j}{q_j(1+\\varepsilon)}} = \\frac{p_i / (1 + \\varepsilon)}{(\\sum_{j=1}^n p_j) / (1 + \\varepsilon)} = p_i$$\n",
    "Thus, we are done."
   ]
  },
  {
   "cell_type": "markdown",
   "metadata": {},
   "source": [
    "**Problem 2b.** One of the reasons this implementation is not significantly faster than the one in **Problem 1c** , apart from $d$ being rather small, is that we are using Python's interpreter a bit too much, and Python is slow. One way around this is usually to use a library function - **searchsorted** is much faster than an equivalent code implemented in pure Python. But even if the functionality you need is not implemented in a lower level language as\n",
    "a library function, there is still hope. You can try to implement it using optimized array algebra, for example using **numpy**. In this problem, your task is to rewrite the previous algorithm, so that the amount of *looping* is reduced to a minimum necessary. In particular, you should create a *vectorized* version of random dates generation (in bulk), while the actual search for duplicates remains a loop with a **set**. Here are some useful tips:\n",
    "   * You can perform arithmetic, comparisons, etc. on **numpy** arrays.\n",
    "   * You can generate whole **numpy** arrays of random numbers at once.\n",
    "   * You can even perform parallel look-up like in the example below."
   ]
  },
  {
   "cell_type": "code",
   "execution_count": 20,
   "metadata": {},
   "outputs": [
    {
     "name": "stdout",
     "output_type": "stream",
     "text": [
      "[3 3 7 7]\n",
      "[2 1 4]\n"
     ]
    }
   ],
   "source": [
    "X = np.array([10,3,7])\n",
    "I = np.array([1,1,2,2])\n",
    "print(X[I])\n",
    "X = np.array([[1,2],[3,4]])\n",
    "I = np.array([0,0,1])\n",
    "J = np.array([1,0,1])\n",
    "print(X[I,J])"
   ]
  },
  {
   "cell_type": "markdown",
   "metadata": {},
   "source": [
    "**Problem 2c (Squaring the histogram).** In this problem, we again want to sample with known probabilities $p_1,\\ldots,p_n$, but this time we make no assumptions on $p_i$. Consider the following algorithm:\n",
    "   * Let $V$ be the mean of $p_i$, i.e. $V=\\frac{1}{n}$.\n",
    "   * Create $n$ buckets, each with volume $V$, put each $p_i$ into a separate bucket.\n",
    "   * Until there exists a bucket $A$ that is not full, find a bucket $B$ that overflows, and trasfer probability from $B$ to $A$ until $A$ is exactly full\n",
    "\n",
    "Show that:\n",
    "   * This algorithm always ends.\n",
    "   * When it ends, each bucket contains pieces of exactly two $p_i$'s.\n",
    "\n",
    "How to use the result of this algorithm to sample with probabilities $p_i$. Argue that your algorithm is correct and implement it. The sampling part should be *vectorized*. Use this algorithm to sample birthdates again, and test its efficiency."
   ]
  },
  {
   "cell_type": "markdown",
   "metadata": {},
   "source": [
    "\n",
    "**Problem 2d.** Show that the frequency histogram for empirical birthday frequencies can actually be computed exactly, and implement your idea. To this end, design a recurence relation using conditional probabilities and use dynamic programming."
   ]
  },
  {
   "cell_type": "markdown",
   "metadata": {},
   "source": [
    "**BONUS**. An alternative plotting library: plotly"
   ]
  },
  {
   "cell_type": "code",
   "execution_count": null,
   "metadata": {},
   "outputs": [],
   "source": [
    "#install plotly with: pip install plotly\n",
    "#you can run this shell command directly from Jupyter, by prefixing it with !\n",
    "!pip install plotly\n",
    "\n",
    "from plotly.offline import download_plotlyjs, init_notebook_mode, plot, iplot\n",
    "import plotly.graph_objs as go\n",
    "import numpy as np\n",
    "\n",
    "init_notebook_mode(connected=True)\n",
    "\n",
    "# example scatterplot\n",
    "\n",
    "x = np.linspace(0, 1, 10)\n",
    "y = x * x\n",
    "\n",
    "iplot([go.Scatter(x=x, y=y, name=\"y=x^2\"), go.Scatter(x=x, y=-y, name=\"y=-x^2\")])\n",
    "\n",
    "# example heatmap\n",
    "\n",
    "iplot([go.Heatmap(z=[[10, 20, 30, 40],\n",
    "                      [20, 30, 40, 50],\n",
    "                      [30, 40, 50, 60]])])\n"
   ]
  }
 ],
 "metadata": {
  "kernelspec": {
   "display_name": "Python 3.10.8 64-bit",
   "language": "python",
   "name": "python3"
  },
  "language_info": {
   "codemirror_mode": {
    "name": "ipython",
    "version": 3
   },
   "file_extension": ".py",
   "mimetype": "text/x-python",
   "name": "python",
   "nbconvert_exporter": "python",
   "pygments_lexer": "ipython3",
   "version": "3.10.8"
  },
  "vscode": {
   "interpreter": {
    "hash": "b0fa6594d8f4cbf19f97940f81e996739fb7646882a419484c72d19e05852a7e"
   }
  }
 },
 "nbformat": 4,
 "nbformat_minor": 1
}
